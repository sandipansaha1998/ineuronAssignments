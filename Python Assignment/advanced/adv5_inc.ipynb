{
 "cells": [
  {
   "cell_type": "markdown",
   "metadata": {},
   "source": [
    "# Assignmet 5"
   ]
  },
  {
   "cell_type": "markdown",
   "metadata": {},
   "source": [
    "# Q1"
   ]
  },
  {
   "cell_type": "code",
   "execution_count": 2,
   "metadata": {},
   "outputs": [],
   "source": [
    "def iseven(n):\n",
    "    '''Checks  if an integer n is even or odd\n",
    "     Parameters:\n",
    "     -----------\n",
    "     n:Input Parameter\n",
    "     Returns :\n",
    "     -----------\n",
    "     2: if n is odd\n",
    "     8: if n is even'''"
   ]
  },
  {
   "cell_type": "code",
   "execution_count": null,
   "metadata": {},
   "outputs": [],
   "source": [
    "iseven()"
   ]
  },
  {
   "cell_type": "code",
   "execution_count": null,
   "metadata": {},
   "outputs": [],
   "source": []
  },
  {
   "cell_type": "code",
   "execution_count": null,
   "metadata": {},
   "outputs": [],
   "source": []
  },
  {
   "cell_type": "code",
   "execution_count": null,
   "metadata": {},
   "outputs": [],
   "source": []
  },
  {
   "cell_type": "markdown",
   "metadata": {},
   "source": [
    "# Q2"
   ]
  },
  {
   "cell_type": "code",
   "execution_count": 130,
   "metadata": {},
   "outputs": [],
   "source": [
    "def majority(inp):\n",
    "    arr=[None]*len(inp)\n",
    "    arrc=[None]*len(inp)\n",
    "    cond=0\n",
    "    k=0\n",
    "    maj=0\n",
    "    for i in inp:\n",
    "        c=inp.count(i)\n",
    "        cond=0\n",
    "        for l in range(0,len(arrc)):\n",
    "            if i==arr[l]:\n",
    "                cond=1 \n",
    "                break\n",
    "            else:\n",
    "                 continue\n",
    "        if cond==1:\n",
    "            continue\n",
    "        else:\n",
    "            arr[k]=i\n",
    "            arrc[k]=c\n",
    "            k=k+1\n",
    "    for z in range(0,len(arrc)):\n",
    "        if(arr[z]==None):\n",
    "            continue\n",
    "        else:\n",
    "            if(arrc[z]>maj):\n",
    "                maj=arrc[z]\n",
    "                win=z\n",
    "            else:\n",
    "                  continue\n",
    "    x=arrc.count(maj)\n",
    "    if x>1:\n",
    "        print(\"No winner\")\n",
    "    else :\n",
    "        print(\"Winner\",arr[win])"
   ]
  },
  {
   "cell_type": "code",
   "execution_count": 131,
   "metadata": {},
   "outputs": [
    {
     "name": "stdout",
     "output_type": "stream",
     "text": [
      "Winner A\n"
     ]
    }
   ],
   "source": [
    "majority([\"A\", \"A\", \"B\"]) "
   ]
  },
  {
   "cell_type": "code",
   "execution_count": 132,
   "metadata": {},
   "outputs": [
    {
     "name": "stdout",
     "output_type": "stream",
     "text": [
      "Winner A\n"
     ]
    }
   ],
   "source": [
    "majority([\"A\", \"A\", \"A\", \"B\", \"C\", \"A\"])"
   ]
  },
  {
   "cell_type": "code",
   "execution_count": 133,
   "metadata": {},
   "outputs": [
    {
     "name": "stdout",
     "output_type": "stream",
     "text": [
      "No winner\n"
     ]
    }
   ],
   "source": [
    "majority([\"A\", \"B\", \"B\", \"A\", \"C\", \"C\"]) "
   ]
  },
  {
   "cell_type": "markdown",
   "metadata": {},
   "source": [
    "# Q3"
   ]
  },
  {
   "cell_type": "code",
   "execution_count": 62,
   "metadata": {},
   "outputs": [],
   "source": [
    "def censor_string(str1,strlst,symb):\n",
    "    str1=str1+' '\n",
    "    wo=''\n",
    "    cstr=''\n",
    "    for i in str1:\n",
    "        if(i!=' '):\n",
    "            wo=wo+i\n",
    "        else:\n",
    "            for r in strlst:\n",
    "                if(r==wo):\n",
    "                    l=len(wo)\n",
    "                    wo=symb*l\n",
    "                else:\n",
    "                    continue\n",
    "            cstr=cstr+wo+' '\n",
    "            wo=''\n",
    "    return cstr\n",
    "                \n",
    "            "
   ]
  },
  {
   "cell_type": "code",
   "execution_count": 63,
   "metadata": {},
   "outputs": [
    {
     "data": {
      "text/plain": [
       "'----- is - Wednesday! '"
      ]
     },
     "execution_count": 63,
     "metadata": {},
     "output_type": "execute_result"
    }
   ],
   "source": [
    "censor_string(\"Today is a Wednesday!\", [\"Today\", \"a\"], \"-\")"
   ]
  },
  {
   "cell_type": "code",
   "execution_count": 64,
   "metadata": {},
   "outputs": [
    {
     "data": {
      "text/plain": [
       "'The *** jumped **** the moon. '"
      ]
     },
     "execution_count": 64,
     "metadata": {},
     "output_type": "execute_result"
    }
   ],
   "source": [
    "censor_string(\"The cow jumped over the moon.\", [\"cow\", \"over\"], \"*\")"
   ]
  },
  {
   "cell_type": "markdown",
   "metadata": {},
   "source": [
    "# Q4"
   ]
  },
  {
   "cell_type": "code",
   "execution_count": 3,
   "metadata": {},
   "outputs": [],
   "source": [
    "def no_of_dig(m):\n",
    "    c=0\n",
    "    while(m>0):\n",
    "        m=int(m/10)\n",
    "        c=c+1\n",
    "    return c\n"
   ]
  },
  {
   "cell_type": "code",
   "execution_count": 64,
   "metadata": {},
   "outputs": [],
   "source": [
    "def is_polydivisible(n):\n",
    "    nod= no_of_dig(n)\n",
    "    cnod=nod\n",
    "    n1=n\n",
    "    p=1\n",
    "    c=0\n",
    "    while n!=0:\n",
    "            m=int(n1/(10**(nod-1)))\n",
    "            if(m%p==0):\n",
    "                c=c+1\n",
    "            else:\n",
    "                break    \n",
    "            nod=nod-1\n",
    "            n=int(n/10)\n",
    "            p=p+1\n",
    "            \n",
    "    if(c==cnod):\n",
    "        return True\n",
    "    else:\n",
    "        return False"
   ]
  },
  {
   "cell_type": "code",
   "execution_count": 66,
   "metadata": {},
   "outputs": [
    {
     "data": {
      "text/plain": [
       "False"
      ]
     },
     "execution_count": 66,
     "metadata": {},
     "output_type": "execute_result"
    }
   ],
   "source": [
    "is_polydivisible(123200) "
   ]
  },
  {
   "cell_type": "code",
   "execution_count": 67,
   "metadata": {},
   "outputs": [
    {
     "data": {
      "text/plain": [
       "True"
      ]
     },
     "execution_count": 67,
     "metadata": {},
     "output_type": "execute_result"
    }
   ],
   "source": [
    "is_polydivisible(12325) "
   ]
  },
  {
   "cell_type": "markdown",
   "metadata": {},
   "source": [
    "# Q5"
   ]
  },
  {
   "cell_type": "code",
   "execution_count": 106,
   "metadata": {},
   "outputs": [],
   "source": [
    "def isprime(n):\n",
    "    c=0\n",
    "    for i in range(1,n):\n",
    "        if(n%i==0) or n==1:\n",
    "            c+=1\n",
    "    if c==1:\n",
    "        return True\n",
    "    else:\n",
    "        return False"
   ]
  },
  {
   "cell_type": "code",
   "execution_count": 112,
   "metadata": {},
   "outputs": [],
   "source": [
    "def sum_prime(lst):\n",
    "    c=False\n",
    "    s=0\n",
    "    for i in lst:\n",
    "        c=isprime(i)\n",
    "        if c==True:\n",
    "            s=s+i\n",
    "        else:\n",
    "            continue\n",
    "    return s        "
   ]
  },
  {
   "cell_type": "code",
   "execution_count": 113,
   "metadata": {},
   "outputs": [
    {
     "data": {
      "text/plain": [
       "17"
      ]
     },
     "execution_count": 113,
     "metadata": {},
     "output_type": "execute_result"
    }
   ],
   "source": [
    "sum_prime([1, 2, 3, 4, 5, 6, 7, 8, 9, 10]) "
   ]
  },
  {
   "cell_type": "code",
   "execution_count": 114,
   "metadata": {},
   "outputs": [
    {
     "data": {
      "text/plain": [
       "87"
      ]
     },
     "execution_count": 114,
     "metadata": {},
     "output_type": "execute_result"
    }
   ],
   "source": [
    "sum_prime([2, 3, 4, 11, 20, 50, 71]) "
   ]
  },
  {
   "cell_type": "code",
   "execution_count": null,
   "metadata": {},
   "outputs": [],
   "source": []
  },
  {
   "cell_type": "code",
   "execution_count": null,
   "metadata": {},
   "outputs": [],
   "source": []
  }
 ],
 "metadata": {
  "kernelspec": {
   "display_name": "Python 3",
   "language": "python",
   "name": "python3"
  },
  "language_info": {
   "codemirror_mode": {
    "name": "ipython",
    "version": 3
   },
   "file_extension": ".py",
   "mimetype": "text/x-python",
   "name": "python",
   "nbconvert_exporter": "python",
   "pygments_lexer": "ipython3",
   "version": "3.7.9"
  }
 },
 "nbformat": 4,
 "nbformat_minor": 4
}
