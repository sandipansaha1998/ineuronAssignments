{
 "cells": [
  {
   "cell_type": "markdown",
   "metadata": {},
   "source": [
    "# Q2"
   ]
  },
  {
   "cell_type": "code",
   "execution_count": 27,
   "metadata": {},
   "outputs": [
    {
     "data": {
      "text/plain": [
       "7"
      ]
     },
     "execution_count": 27,
     "metadata": {},
     "output_type": "execute_result"
    }
   ],
   "source": [
    "def unique_styles(lsts):\n",
    "    newlst=[]\n",
    "    flist=[]\n",
    "    s=''\n",
    "    count=0\n",
    "    uni=0\n",
    "    for lst in lsts:\n",
    "        if ',' in lst:\n",
    "            lst=lst+','\n",
    "            for ls in lst:\n",
    "                if ls != ',':\n",
    "                    s=s+ls\n",
    "                else:\n",
    "                    newlst.append(s)\n",
    "                    s=''\n",
    "        else:\n",
    "            newlst.append(lst)\n",
    "    for new in newlst:\n",
    "        if new not in flist:\n",
    "            flist.append(new)\n",
    "    uni=len(flist)\n",
    "   \n",
    "    return uni\n",
    "\n",
    "\n",
    "\n",
    "\n",
    "\n",
    "unique_styles([\n",
    "  \"Dub,Dancehall\",\n",
    "  \"Industrial,Heavy Metal\",\n",
    "  \"Techno,Dubstep\",\n",
    "  \"Synth-pop,Euro-Disco\",\n",
    "  \"Industrial,Techno,Minimal\"\n",
    "])\n",
    "unique_styles([\n",
    "  \"Soul\",\n",
    "  \"House,Folk\",\n",
    "  \"Trance,Downtempo,Big Beat,House\",\n",
    "  \"Deep House\",\n",
    "  \"Soul\"\n",
    "])\n",
    "\n",
    "\n"
   ]
  },
  {
   "cell_type": "markdown",
   "metadata": {},
   "source": [
    "# Q3"
   ]
  },
  {
   "cell_type": "code",
   "execution_count": 23,
   "metadata": {},
   "outputs": [
    {
     "data": {
      "text/plain": [
       "20"
      ]
     },
     "execution_count": 23,
     "metadata": {},
     "output_type": "execute_result"
    }
   ],
   "source": [
    "def binarySearch(x):\n",
    "    arr=get_primes()\n",
    "    r=len(arr)-1\n",
    "    l=0\n",
    "    mid=-1\n",
    "    while l <= r:\n",
    "        mid = l + (r - l) // 2;\n",
    "        if arr[mid] == x:\n",
    "            return mid\n",
    "        elif arr[mid] < x:\n",
    "            l = mid + 1\n",
    "        else:\n",
    "            r = mid - 1\n",
    "    return -1\n",
    " \n",
    "binarySearch(73)"
   ]
  },
  {
   "cell_type": "code",
   "execution_count": 4,
   "metadata": {},
   "outputs": [],
   "source": [
    "def get_primes():\n",
    "    primes=[]\n",
    "    for n in range(2,98):\n",
    "        if isprime(n) == True:\n",
    "             primes.append(n) \n",
    "    return primes"
   ]
  },
  {
   "cell_type": "code",
   "execution_count": 5,
   "metadata": {},
   "outputs": [],
   "source": [
    "def isprime(n):\n",
    "    c=0\n",
    "    for i in range(2,n):\n",
    "        if(n%i==0):\n",
    "            c+=1\n",
    "    if c==0:\n",
    "        return True\n",
    "        "
   ]
  },
  {
   "cell_type": "markdown",
   "metadata": {},
   "source": [
    "# Q4"
   ]
  },
  {
   "cell_type": "code",
   "execution_count": 40,
   "metadata": {},
   "outputs": [],
   "source": [
    "import math\n",
    "def power_ranger(n,a,b):\n",
    "    c=0\n",
    "    for num in range(a,b):\n",
    "        root= num**(1/n)\n",
    "        if math.floor(root)==root:\n",
    "            c+=1\n",
    "    return c"
   ]
  },
  {
   "cell_type": "code",
   "execution_count": 41,
   "metadata": {},
   "outputs": [
    {
     "data": {
      "text/plain": [
       "2"
      ]
     },
     "execution_count": 41,
     "metadata": {},
     "output_type": "execute_result"
    }
   ],
   "source": [
    "power_ranger(2,49,65)"
   ]
  },
  {
   "cell_type": "code",
   "execution_count": 42,
   "metadata": {},
   "outputs": [
    {
     "data": {
      "text/plain": [
       "1"
      ]
     },
     "execution_count": 42,
     "metadata": {},
     "output_type": "execute_result"
    }
   ],
   "source": [
    "power_ranger(5,31,33)"
   ]
  },
  {
   "cell_type": "code",
   "execution_count": null,
   "metadata": {},
   "outputs": [],
   "source": []
  },
  {
   "cell_type": "markdown",
   "metadata": {},
   "source": [
    "# Q5"
   ]
  },
  {
   "cell_type": "code",
   "execution_count": 27,
   "metadata": {},
   "outputs": [],
   "source": [
    "def rearranged(number):\n",
    "    n_lstmax=[]\n",
    "    n_lstmin=[]\n",
    "    maxn=''\n",
    "    minn=''\n",
    "    s=''\n",
    "    n=number\n",
    "    n=str(n)\n",
    "    for i in n:\n",
    "        i=int(i)\n",
    "        n_lstmax.append(i)\n",
    "    n_lstmax.sort(reverse=True)\n",
    "    for j in n_lstmax:\n",
    "        j=str(j)\n",
    "        maxn=maxn+j\n",
    "    maxn=int(maxn)\n",
    "    for i in n:\n",
    "        i=int(i)\n",
    "        n_lstmin.append(i)\n",
    "    n_lstmin.sort()\n",
    "    for j in n_lstmin:\n",
    "        j=str(j)\n",
    "        minn=minn+j\n",
    "    minn=int(minn)\n",
    "    print(\"max\",maxn)\n",
    "    print(\"min\",minn)\n",
    "    return maxn-minn\n",
    "        "
   ]
  },
  {
   "cell_type": "code",
   "execution_count": 28,
   "metadata": {},
   "outputs": [
    {
     "name": "stdout",
     "output_type": "stream",
     "text": [
      "max 988722\n",
      "min 227889\n"
     ]
    },
    {
     "data": {
      "text/plain": [
       "760833"
      ]
     },
     "execution_count": 28,
     "metadata": {},
     "output_type": "execute_result"
    }
   ],
   "source": [
    "rearranged(972882)"
   ]
  },
  {
   "cell_type": "code",
   "execution_count": null,
   "metadata": {},
   "outputs": [],
   "source": []
  },
  {
   "cell_type": "code",
   "execution_count": null,
   "metadata": {},
   "outputs": [],
   "source": []
  }
 ],
 "metadata": {
  "kernelspec": {
   "display_name": "Python 3",
   "language": "python",
   "name": "python3"
  },
  "language_info": {
   "codemirror_mode": {
    "name": "ipython",
    "version": 3
   },
   "file_extension": ".py",
   "mimetype": "text/x-python",
   "name": "python",
   "nbconvert_exporter": "python",
   "pygments_lexer": "ipython3",
   "version": "3.7.9"
  }
 },
 "nbformat": 4,
 "nbformat_minor": 4
}
