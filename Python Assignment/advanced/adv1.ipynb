{
 "cells": [
  {
   "cell_type": "markdown",
   "metadata": {},
   "source": [
    "# Question 1:"
   ]
  },
  {
   "cell_type": "code",
   "execution_count": 14,
   "metadata": {},
   "outputs": [
    {
     "name": "stdout",
     "output_type": "stream",
     "text": [
      "-1\n",
      "2\n"
     ]
    }
   ],
   "source": [
    "symbol_list={\"#\":5,\"0\":3,\"x\":1,\"!\":-1,\"!!\":-3,\"!!!\":-5}\n",
    "\n",
    "def checkscores(*lst):\n",
    "    \"\"\"\n",
    "Returns the sum of the equivalent number of the symbols\n",
    "The symbol-number index list:\n",
    "symbol_list={\"#\":5,\"0\":3,\"x\":1,\"!\":-1,\"!!\":-3,\"!!!\":-5}\n",
    "Parameters:\n",
    "-------------------------------------------------------\n",
    "lst:list of the symbols whose sum of their number equivalent is to be calculated.\n",
    "Returns:\n",
    "-------------------------------------------------------\n",
    "s: sum of the numbers equivalent to the symbols\n",
    "\"\"\"\n",
    "    s=0\n",
    "    for lst1 in lst:  \n",
    "        for i in range(0,len(lst1)):\n",
    "            a=symbol_list.get(lst1[i]) # maps the symbols to the numbers \n",
    "            s=s+a # calculates the sum\n",
    "    return s\n",
    "\n",
    "print(checkscores([\"!!!\", \"0\", \"!\"],[\"x\", \"#\", \"!!!\"],[\"!!\", \"x\", \"0\"]))\n",
    "print(checkscores([\"#\",\"!\"],[\"x\",\"!!\"]))\n"
   ]
  },
  {
   "cell_type": "markdown",
   "metadata": {},
   "source": [
    "# Question 2:"
   ]
  },
  {
   "cell_type": "code",
   "execution_count": 19,
   "metadata": {},
   "outputs": [
    {
     "name": "stdout",
     "output_type": "stream",
     "text": [
      "84\n",
      "120\n"
     ]
    }
   ],
   "source": [
    "def combinations(value) :\n",
    "    \"\"\" Returns the number of permutations (combinations) of items that you could get by taking\n",
    "        one item from each group.\n",
    "        Parameters:\n",
    "        ------------------------------------------\n",
    "        value:each argument in the list represents the number of items in the group.\n",
    "        \n",
    "        Returns:\n",
    "        --------------------------------------------\n",
    "        the number of permutations (combinations) of items\n",
    "    \"\"\"\n",
    "    prod=1\n",
    "    for v in value:\n",
    "            prod=prod*v\n",
    "    return prod\n",
    "    \n",
    "print(combinations([3,7,4]))\n",
    "print(combinations([2,3,4,5]))\n"
   ]
  },
  {
   "cell_type": "markdown",
   "metadata": {},
   "source": [
    "# Question 3:"
   ]
  },
  {
   "cell_type": "code",
   "execution_count": 48,
   "metadata": {},
   "outputs": [
    {
     "name": "stdout",
     "output_type": "stream",
     "text": [
      "......-...--. --. -.-.--\n",
      ".-...--...-.....- -.-......-.-...-...-.--..\n"
     ]
    }
   ],
   "source": [
    "char_to_dots = {\n",
    "  'A': '.-', 'B': '-...', 'C': '-.-.', 'D': '-..', 'E': '.', 'F': '..-.',\n",
    "  'G': '--.', 'H': '....', 'I': '..', 'J': '.---', 'K': '-.-', 'L': '.-..',\n",
    "  'M': '--', 'N': '-.', 'O': '---', 'P': '.--.', 'Q': '--.-', 'R': '.-.',\n",
    "  'S': '...', 'T': '-', 'U': '..-', 'V': '...-', 'W': '.--', 'X': '-..-',\n",
    "  'Y': '-.--', 'Z': '--..', ' ': ' ', '0': '-----',\n",
    "  '1': '.----', '2': '..---', '3': '...--', '4': '....-', '5': '.....',\n",
    "  '6': '-....', '7': '--...', '8': '---..', '9': '----.',\n",
    "  '&': '.-...', \"'\": '.----.', '@': '.--.-.', ')': '-.--.-', '(': '-.--.',\n",
    "  ':': '---...', ',': '--..--', '=': '-...-', '!': '-.-.--', '.': '.-.-.-',\n",
    "  '-': '-....-', '+': '.-.-.', '\"': '.-..-.', '?': '..--..', '/': '-..-.'\n",
    "}\n",
    "\n",
    "def morsecode(inp):\n",
    "    \"\"\" Returns the morsecode of the input string\n",
    "        Parameters:\n",
    "        -----------------------------------------\n",
    "        inp:input string whose morsecode is be formed\n",
    "        Returns:\n",
    "        -----------------------------------------\n",
    "        s:The morsecode of the input string\"\"\"\n",
    "    s=\"\"\n",
    "    c=\"\"\n",
    "    inp.upper() # Converts the string to upper case\n",
    "    for i in inp:\n",
    "        c=char_to_dots.get(i) # each character of the string is compared to the list and its morsecode is stored to c\n",
    "        s=s+c # then final string is formed by joinning each character's equivalent morsecode\n",
    "    return s\n",
    "\n",
    "print(morsecode(\"HELP ME !\"))\n",
    "print(morsecode(\"EDABBIT CHALLENGE\"))\n"
   ]
  },
  {
   "cell_type": "markdown",
   "metadata": {},
   "source": [
    "# Question 4:"
   ]
  },
  {
   "cell_type": "code",
   "execution_count": 30,
   "metadata": {},
   "outputs": [
    {
     "name": "stdout",
     "output_type": "stream",
     "text": [
      "True\n",
      "False\n"
     ]
    }
   ],
   "source": [
    "def isprime(p):\n",
    "    \"\"\"\n",
    "    Checks if a numebr is prime or not\n",
    "    Parameters:\n",
    "    ----------------------------------\n",
    "    p:input parameter\n",
    "    Returns:\n",
    "    ----------------------------------\n",
    "    bool\n",
    "    True : if the numebr is prime\n",
    "    False: if the number is not prime\"\"\"\n",
    "    c=0\n",
    "    for i in range(1,p+1,1):\n",
    "        if(p%i==0):\n",
    "            c=c+1;\n",
    "            if(c>2):\n",
    "                return False # if a number has more than 2 factors its already composite hence break\n",
    "                break\n",
    "            else:\n",
    "                pass\n",
    "    if(c==2): # finally if the number of factors remains 2,the number is prime\n",
    "        return True\n",
    "print(isprime(109))\n",
    "print(isprime(5151512515524))"
   ]
  },
  {
   "cell_type": "markdown",
   "metadata": {},
   "source": [
    "# Question 5:"
   ]
  },
  {
   "cell_type": "code",
   "execution_count": 55,
   "metadata": {},
   "outputs": [
    {
     "name": "stdout",
     "output_type": "stream",
     "text": [
      "['False', 'True', 'True', 'False']\n",
      "['False', 'True', 'False', 'True', 'True']\n",
      "['False', 'True', 'True', 'False']\n"
     ]
    }
   ],
   "source": [
    "str_to_num = {\n",
    "  'A': 1, 'B':2, 'C':3, 'D':4, 'E':5, 'F':6,\n",
    "  'G': 7, 'H':8, 'I': 9, 'J':10, 'K':11, 'L':12,\n",
    "  'M': 13, 'N':14, 'O':15, 'P':16, 'Q':17, 'R':18,\n",
    "  'S': 19, 'T':20, 'U':21, 'V':22, 'W':23, 'X':24,\n",
    "  'Y': 25, 'Z':26\n",
    "}\n",
    "num_to_boolean={\n",
    "    1:\"True\",\n",
    "    0:\"False\"\n",
    "}\n",
    "def to_boolean_list(inp):\n",
    "    \"\"\"\n",
    "    1. Locate the position of the letter in the English alphabet (from 1 to 26).\n",
    "    2. Odd positions will be represented as 1 and 0 otherwise.\n",
    "    3. Convert the represented positions to boolean values, 1 for True and 0\n",
    "       for False.\n",
    "    4. Store the conversions into an array.\"\"\"\n",
    "    numlist=[]\n",
    "    boollist=[]\n",
    "    inp=inp.upper()\n",
    "    a=0\n",
    "    for i in inp:\n",
    "            a=str_to_num.get(i)\n",
    "            if(a%2==0):\n",
    "                numlist.append(\"False\")\n",
    "            else:\n",
    "                numlist.append(\"True\")\n",
    "    return(numlist)     \n",
    "print(to_boolean_list(\"deep\"))                \n",
    "print(to_boolean_list(\"LOVES\"))                \n",
    "print(to_boolean_list(\"tesh\"))  "
   ]
  },
  {
   "cell_type": "code",
   "execution_count": null,
   "metadata": {},
   "outputs": [],
   "source": []
  }
 ],
 "metadata": {
  "kernelspec": {
   "display_name": "Python 3",
   "language": "python",
   "name": "python3"
  },
  "language_info": {
   "codemirror_mode": {
    "name": "ipython",
    "version": 3
   },
   "file_extension": ".py",
   "mimetype": "text/x-python",
   "name": "python",
   "nbconvert_exporter": "python",
   "pygments_lexer": "ipython3",
   "version": "3.7.9"
  }
 },
 "nbformat": 4,
 "nbformat_minor": 4
}
