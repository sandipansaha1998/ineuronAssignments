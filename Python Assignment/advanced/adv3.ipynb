{
 "cells": [
  {
   "cell_type": "markdown",
   "metadata": {},
   "source": [
    "# Assignment 3"
   ]
  },
  {
   "cell_type": "markdown",
   "metadata": {},
   "source": [
    "## 1"
   ]
  },
  {
   "cell_type": "code",
   "execution_count": 69,
   "metadata": {},
   "outputs": [
    {
     "name": "stdin",
     "output_type": "stream",
     "text": [
      "Enter the Expression to be evaluated 66+11\n"
     ]
    },
    {
     "name": "stdout",
     "output_type": "stream",
     "text": [
      "66\n",
      "11\n",
      "77\n"
     ]
    }
   ],
   "source": [
    "global ans\n",
    "ans=1\n",
    "def str_calc():\n",
    "    \n",
    "    a=0\n",
    "    str1=\"\"\n",
    "    str2=\"\"\n",
    "    inp=input(\"Enter the Expression to be evaluated\")\n",
    "    for i in inp:\n",
    "        ia=ord(i)\n",
    "        if (a==0):\n",
    "            if (ia>47) and (ia<58):\n",
    "                str1=str1+i\n",
    "                           \n",
    "                \n",
    "            elif(ia==43):\n",
    "                c='+'\n",
    "                a=1\n",
    "            elif(ia==45):\n",
    "                c='-'\n",
    "                a=1\n",
    "            elif(ia==42):\n",
    "                c='*'\n",
    "                a=1\n",
    "            elif(ia==47):\n",
    "                c='/'\n",
    "                a=1\n",
    "        else:\n",
    "            str2=str2+i\n",
    "    str1_n=int(str1)\n",
    "    str2_n=int(str2)\n",
    "    print(str1)\n",
    "    print(str2)\n",
    "    \n",
    "    if(c=='+'):\n",
    "        addi(str1_n,str2_n)\n",
    "    if(c=='-'):\n",
    "        sub(str1_n,str2_n)\n",
    "    if(c=='*'):\n",
    "        multi(str1_n,str2_n)   \n",
    "    if(c=='/'):\n",
    "        div(str1_n,str2_n)\n",
    "    \n",
    "\n",
    "\n",
    "def addi(str1_n,str2_n):\n",
    "    ans=str1_n+str2_n\n",
    "    print(ans)\n",
    "def sub(str1_n,str2_n):\n",
    "    ans=str1_n-str2_n\n",
    "    print(ans)\n",
    "def multi(str1_n,str2_n):\n",
    "    ans=str1_n*str2_n\n",
    "    print(ans)\n",
    "def div(str1_n,str2_n):\n",
    "    \n",
    "        try:\n",
    "            ans=str1_n/str2_n\n",
    "            print(ans)\n",
    "        except ZeroDivisionError:\n",
    "            print(\"-1\")\n",
    "str_calc()\n",
    "    \n"
   ]
  },
  {
   "cell_type": "code",
   "execution_count": 70,
   "metadata": {},
   "outputs": [
    {
     "name": "stdin",
     "output_type": "stream",
     "text": [
      "Enter the Expression to be evaluated 6/0\n"
     ]
    },
    {
     "name": "stdout",
     "output_type": "stream",
     "text": [
      "6\n",
      "0\n",
      "-1\n"
     ]
    }
   ],
   "source": [
    "str_calc()"
   ]
  },
  {
   "cell_type": "markdown",
   "metadata": {},
   "source": [
    "## 2"
   ]
  },
  {
   "cell_type": "code",
   "execution_count": 2,
   "metadata": {},
   "outputs": [],
   "source": [
    "import math\n",
    "def perimeter(lst1,lst2,lst3):\n",
    "    \n",
    "    side1=math.sqrt(((lst1[0])-(lst2[0]))**2+((lst1[1])-(lst2[1]))**2)\n",
    "    side2=math.sqrt(((lst2[0])-(lst3[0]))**2+((lst2[1])-(lst3[1]))**2)\n",
    "    side3=math.sqrt(((lst1[0])-(lst3[0]))**2+((lst1[1])-(lst3[1]))**2)\n",
    "    peri=side1+side2+side3\n",
    "    return peri\n",
    "    "
   ]
  },
  {
   "cell_type": "code",
   "execution_count": 3,
   "metadata": {},
   "outputs": [
    {
     "data": {
      "text/plain": [
       "3.414213562373095"
      ]
     },
     "execution_count": 3,
     "metadata": {},
     "output_type": "execute_result"
    }
   ],
   "source": [
    "perimeter( [0, 0], [0, 1], [1, 0]  )"
   ]
  },
  {
   "cell_type": "code",
   "execution_count": 4,
   "metadata": {},
   "outputs": [
    {
     "data": {
      "text/plain": [
       "68.2842712474619"
      ]
     },
     "execution_count": 4,
     "metadata": {},
     "output_type": "execute_result"
    }
   ],
   "source": [
    "perimeter(  [-10, -10], [10, 10 ], [-10, 10]  )"
   ]
  },
  {
   "cell_type": "markdown",
   "metadata": {},
   "source": [
    "## 3"
   ]
  },
  {
   "cell_type": "code",
   "execution_count": 133,
   "metadata": {},
   "outputs": [],
   "source": [
    "import numpy as np\n",
    "def tallest(sky1,sky2,sky3,sky4):\n",
    "    z=0\n",
    "    tallest=0\n",
    "    o=0\n",
    "    mergd_arr=np.concatenate((sky1,sky2,sky3,sky4))\n",
    "    for i in range(0,4):\n",
    "        for j in range(i,16,4):\n",
    "            \n",
    "            if (mergd_arr[j]==1):\n",
    "                o=o+1\n",
    "            else :\n",
    "                continue\n",
    "        if(o>tallest):\n",
    "            tallest=o\n",
    "        else:\n",
    "            continue\n",
    "        o=0   \n",
    "    return tallest        \n"
   ]
  },
  {
   "cell_type": "code",
   "execution_count": 134,
   "metadata": {},
   "outputs": [
    {
     "data": {
      "text/plain": [
       "3"
      ]
     },
     "execution_count": 134,
     "metadata": {},
     "output_type": "execute_result"
    }
   ],
   "source": [
    "tallest ([0, 0, 0, 0],\n",
    "[0, 1, 0, 0],\n",
    "[0, 1, 1, 0],\n",
    "[1, 1, 1, 1])"
   ]
  },
  {
   "cell_type": "code",
   "execution_count": 135,
   "metadata": {},
   "outputs": [
    {
     "data": {
      "text/plain": [
       "4"
      ]
     },
     "execution_count": 135,
     "metadata": {},
     "output_type": "execute_result"
    }
   ],
   "source": [
    "tallest(\n",
    "[0, 1, 0, 0],\n",
    "[0, 1, 0, 0],\n",
    "[0, 1, 1, 0],\n",
    "[1, 1, 1, 1]\n",
    ")"
   ]
  },
  {
   "cell_type": "markdown",
   "metadata": {},
   "source": [
    "## 4"
   ]
  },
  {
   "cell_type": "code",
   "execution_count": 167,
   "metadata": {},
   "outputs": [],
   "source": [
    "def bonus(n):\n",
    "        if(n<32):\n",
    "            s=0\n",
    "        elif(n<41) and (n>32):\n",
    "            noed=n-32\n",
    "            s=noed*325\n",
    "        elif(n<49) and (n>40):\n",
    "            noed=n-40\n",
    "            s=(8*325)+(noed*550)\n",
    "        else:\n",
    "            noed=n-48\n",
    "            s=(8*325)+(8*550)+(noed*600)\n",
    "        return s    "
   ]
  },
  {
   "cell_type": "code",
   "execution_count": 170,
   "metadata": {},
   "outputs": [
    {
     "data": {
      "text/plain": [
       "8200"
      ]
     },
     "execution_count": 170,
     "metadata": {},
     "output_type": "execute_result"
    }
   ],
   "source": [
    "bonus(50)"
   ]
  },
  {
   "cell_type": "code",
   "execution_count": 172,
   "metadata": {},
   "outputs": [
    {
     "data": {
      "text/plain": [
       "1625"
      ]
     },
     "execution_count": 172,
     "metadata": {},
     "output_type": "execute_result"
    }
   ],
   "source": [
    "bonus(37)"
   ]
  },
  {
   "cell_type": "code",
   "execution_count": 173,
   "metadata": {},
   "outputs": [
    {
     "data": {
      "text/plain": [
       "0"
      ]
     },
     "execution_count": 173,
     "metadata": {},
     "output_type": "execute_result"
    }
   ],
   "source": [
    "bonus(15)"
   ]
  },
  {
   "cell_type": "markdown",
   "metadata": {},
   "source": [
    "## 5"
   ]
  },
  {
   "cell_type": "code",
   "execution_count": 152,
   "metadata": {},
   "outputs": [],
   "source": [
    "import math\n",
    "def isDisarium():\n",
    "    p=1\n",
    "    s=0\n",
    "    \n",
    "    n=input(\"Enter the number to be checked\")\n",
    "    for c in n:\n",
    "        d=int(c)\n",
    "        t=math.pow(d,p)\n",
    "        p=p+1\n",
    "        s=s+t\n",
    "    if(s==int(n)):\n",
    "        return True\n",
    "    else:\n",
    "        return False\n",
    "    "
   ]
  },
  {
   "cell_type": "code",
   "execution_count": 154,
   "metadata": {},
   "outputs": [
    {
     "name": "stdin",
     "output_type": "stream",
     "text": [
      "Enter the number to be checked 135\n"
     ]
    },
    {
     "data": {
      "text/plain": [
       "True"
      ]
     },
     "execution_count": 154,
     "metadata": {},
     "output_type": "execute_result"
    }
   ],
   "source": [
    "isDisarium()"
   ]
  },
  {
   "cell_type": "code",
   "execution_count": 155,
   "metadata": {},
   "outputs": [
    {
     "name": "stdin",
     "output_type": "stream",
     "text": [
      "Enter the number to be checked 518\n"
     ]
    },
    {
     "data": {
      "text/plain": [
       "True"
      ]
     },
     "execution_count": 155,
     "metadata": {},
     "output_type": "execute_result"
    }
   ],
   "source": [
    "isDisarium()"
   ]
  },
  {
   "cell_type": "code",
   "execution_count": 156,
   "metadata": {},
   "outputs": [
    {
     "name": "stdin",
     "output_type": "stream",
     "text": [
      "Enter the number to be checked 466\n"
     ]
    },
    {
     "data": {
      "text/plain": [
       "False"
      ]
     },
     "execution_count": 156,
     "metadata": {},
     "output_type": "execute_result"
    }
   ],
   "source": [
    "isDisarium()\n"
   ]
  },
  {
   "cell_type": "code",
   "execution_count": null,
   "metadata": {},
   "outputs": [],
   "source": []
  }
 ],
 "metadata": {
  "kernelspec": {
   "display_name": "Python 3",
   "language": "python",
   "name": "python3"
  },
  "language_info": {
   "codemirror_mode": {
    "name": "ipython",
    "version": 3
   },
   "file_extension": ".py",
   "mimetype": "text/x-python",
   "name": "python",
   "nbconvert_exporter": "python",
   "pygments_lexer": "ipython3",
   "version": "3.7.9"
  }
 },
 "nbformat": 4,
 "nbformat_minor": 4
}
