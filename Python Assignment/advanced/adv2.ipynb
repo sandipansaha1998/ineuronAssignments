{
 "cells": [
  {
   "cell_type": "markdown",
   "metadata": {},
   "source": [
    "# Question 1"
   ]
  },
  {
   "cell_type": "code",
   "execution_count": null,
   "metadata": {},
   "outputs": [],
   "source": []
  },
  {
   "cell_type": "code",
   "execution_count": null,
   "metadata": {},
   "outputs": [],
   "source": []
  },
  {
   "cell_type": "code",
   "execution_count": null,
   "metadata": {},
   "outputs": [],
   "source": []
  },
  {
   "cell_type": "code",
   "execution_count": null,
   "metadata": {},
   "outputs": [],
   "source": []
  },
  {
   "cell_type": "code",
   "execution_count": null,
   "metadata": {},
   "outputs": [],
   "source": []
  },
  {
   "cell_type": "markdown",
   "metadata": {},
   "source": [
    "# Question 2:"
   ]
  },
  {
   "cell_type": "code",
   "execution_count": 5,
   "metadata": {},
   "outputs": [
    {
     "name": "stdout",
     "output_type": "stream",
     "text": [
      "1lpp0aca\n"
     ]
    }
   ],
   "source": [
    "s=\"\";\n",
    "def coder(inp):\n",
    "    global s;\n",
    "    for i in inp:\n",
    "        if (i=='a'):\n",
    "            i='0';\n",
    "            s=i+s\n",
    "        elif (i=='e'):\n",
    "            i='1';\n",
    "            s=i+s\n",
    "        elif (i=='i'):\n",
    "            i='2';\n",
    "            s=i+s \n",
    "        elif (i=='o'):\n",
    "            i='2';\n",
    "            s=i+s    \n",
    "        elif (i=='u'):\n",
    "            i='3';\n",
    "            s=i+s\n",
    "        else:\n",
    "            s=i+s;\n",
    "    print(s+\"aca\")\n",
    "\n",
    "coder(\"apple\")"
   ]
  },
  {
   "cell_type": "markdown",
   "metadata": {},
   "source": [
    "# Question 3:"
   ]
  },
  {
   "cell_type": "code",
   "execution_count": 1,
   "metadata": {},
   "outputs": [],
   "source": [
    "import datetime\n",
    "def has_friday(m,y):\n",
    "    date=datetime.datetime(y,m,13)\n",
    "    day = datetime.datetime.strptime(date, '%d %m %Y').weekday()\n",
    "    print(day)"
   ]
  },
  {
   "cell_type": "code",
   "execution_count": null,
   "metadata": {},
   "outputs": [],
   "source": []
  },
  {
   "cell_type": "code",
   "execution_count": null,
   "metadata": {},
   "outputs": [],
   "source": []
  },
  {
   "cell_type": "code",
   "execution_count": null,
   "metadata": {},
   "outputs": [],
   "source": []
  },
  {
   "cell_type": "code",
   "execution_count": null,
   "metadata": {},
   "outputs": [],
   "source": []
  },
  {
   "cell_type": "markdown",
   "metadata": {},
   "source": [
    "# Question 5:"
   ]
  },
  {
   "cell_type": "code",
   "execution_count": 16,
   "metadata": {},
   "outputs": [],
   "source": [
    "lstp=[]\n",
    "lstp1=[]\n",
    "def pluralize(lst):\n",
    "    for l in lst:\n",
    "        c=lst.count(l)\n",
    "        if(c>1):\n",
    "            l=l+'s'\n",
    "            lstp1.append(l)\n",
    "        else:\n",
    "            lstp1.append(l)\n",
    "    for m in lstp1:\n",
    "        if m not in lstp:\n",
    "            lstp.append(m)\n",
    "    return lstp       \n"
   ]
  },
  {
   "cell_type": "code",
   "execution_count": 17,
   "metadata": {},
   "outputs": [
    {
     "data": {
      "text/plain": [
       "['tables']"
      ]
     },
     "execution_count": 17,
     "metadata": {},
     "output_type": "execute_result"
    }
   ],
   "source": [
    "pluralize([\"table\",\"table\",\"table\"])"
   ]
  },
  {
   "cell_type": "code",
   "execution_count": null,
   "metadata": {},
   "outputs": [],
   "source": []
  }
 ],
 "metadata": {
  "kernelspec": {
   "display_name": "Python 3",
   "language": "python",
   "name": "python3"
  },
  "language_info": {
   "codemirror_mode": {
    "name": "ipython",
    "version": 3
   },
   "file_extension": ".py",
   "mimetype": "text/x-python",
   "name": "python",
   "nbconvert_exporter": "python",
   "pygments_lexer": "ipython3",
   "version": "3.7.9"
  }
 },
 "nbformat": 4,
 "nbformat_minor": 4
}
