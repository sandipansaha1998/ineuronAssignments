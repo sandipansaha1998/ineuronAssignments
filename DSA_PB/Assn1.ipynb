{
 "cells": [
  {
   "cell_type": "code",
   "execution_count": 1,
   "id": "aa6e9469",
   "metadata": {},
   "outputs": [
    {
     "data": {
      "text/plain": [
       "True"
      ]
     },
     "execution_count": 1,
     "metadata": {},
     "output_type": "execute_result"
    }
   ],
   "source": [
    "#Question 1\n",
    "#row major form\n",
    "def matrix_search(arr,target):\n",
    "  m = len(arr)\n",
    "  n = len(arr[0])\n",
    "  def binary(arr,i,j,target):\n",
    "   result=-1\n",
    "   mid = i+(j-i)//2\n",
    "   curr_val = arr[mid//n][mid%n]\n",
    "   if i>j:\n",
    "    return -1\n",
    "   else:\n",
    "    if curr_val == target:\n",
    "     return True\n",
    "  \n",
    "   if curr_val < target:\n",
    "    return binary(arr,mid+1,j,target)\n",
    "   else :\n",
    "    return binary(arr,i,mid-1,target)\n",
    "  return binary(arr,0,m*n-1,target)\n",
    "# driver code\n",
    "arr = [[1,3,5,7],[10,11,15,17],[22,29,32,45]] \n",
    "matrix_search(arr,7)"
   ]
  },
  {
   "cell_type": "code",
   "execution_count": 5,
   "id": "e706753b",
   "metadata": {},
   "outputs": [
    {
     "data": {
      "text/plain": [
       "-1"
      ]
     },
     "execution_count": 5,
     "metadata": {},
     "output_type": "execute_result"
    }
   ],
   "source": [
    "def assignment2(arr,target):\n",
    "   m = len(arr)\n",
    "   n = len(arr[0])\n",
    "   r = 4\n",
    "   c = 0\n",
    "   while(r>0 and c<n):\n",
    "    if arr[r][c]>target:\n",
    "     r-=1\n",
    "    elif arr[r][c]<target:\n",
    "     c+=1\n",
    "    else:\n",
    "      return r,c\n",
    "   return -1\n",
    "matrix=[[1,4,7,11,15],[2,5,8,12,19],[3,6,9,16,22],[10,13,14,17,24],[18,21,23,28,30]]\n",
    "assignment2(matrix,124)\n"
   ]
  },
  {
   "cell_type": "code",
   "execution_count": null,
   "id": "1cf6dee6",
   "metadata": {},
   "outputs": [],
   "source": []
  }
 ],
 "metadata": {
  "kernelspec": {
   "display_name": "Python 3 (ipykernel)",
   "language": "python",
   "name": "python3"
  },
  "language_info": {
   "codemirror_mode": {
    "name": "ipython",
    "version": 3
   },
   "file_extension": ".py",
   "mimetype": "text/x-python",
   "name": "python",
   "nbconvert_exporter": "python",
   "pygments_lexer": "ipython3",
   "version": "3.8.12"
  }
 },
 "nbformat": 4,
 "nbformat_minor": 5
}
